{
 "cells": [
  {
   "cell_type": "code",
   "execution_count": 2,
   "metadata": {},
   "outputs": [],
   "source": [
    "# Importar la librería pandas\n",
    "\n",
    "import pandas as pd\n",
    "\n",
    "# Importar la librería numpy para operaciones numéricas y manipulación de arrays\n",
    "import numpy as np\n",
    "\n",
    "# Importar el módulo ast para trabajar con literales y estructuras de datos anidadas\n",
    "import ast\n",
    "\n",
    "# Importa el módulo re para trabajar con expresiones regulares\n",
    "import re "
   ]
  },
  {
   "cell_type": "code",
   "execution_count": 3,
   "metadata": {},
   "outputs": [
    {
     "name": "stderr",
     "output_type": "stream",
     "text": [
      "C:\\Users\\Usuario\\AppData\\Local\\Temp\\ipykernel_8104\\4269335017.py:2: DtypeWarning: Columns (10) have mixed types. Specify dtype option on import or set low_memory=False.\n",
      "  df = pd.read_csv(\"C:/Users/Usuario/Downloads/movies_dataset.csv\")\n"
     ]
    },
    {
     "name": "stdout",
     "output_type": "stream",
     "text": [
      "   adult                              belongs_to_collection    budget  \\\n",
      "0  False  {'id': 10194, 'name': 'Toy Story Collection', ...  30000000   \n",
      "1  False                                                NaN  65000000   \n",
      "2  False  {'id': 119050, 'name': 'Grumpy Old Men Collect...         0   \n",
      "3  False                                                NaN  16000000   \n",
      "4  False  {'id': 96871, 'name': 'Father of the Bride Col...         0   \n",
      "\n",
      "                                              genres  \\\n",
      "0  [{'id': 16, 'name': 'Animation'}, {'id': 35, '...   \n",
      "1  [{'id': 12, 'name': 'Adventure'}, {'id': 14, '...   \n",
      "2  [{'id': 10749, 'name': 'Romance'}, {'id': 35, ...   \n",
      "3  [{'id': 35, 'name': 'Comedy'}, {'id': 18, 'nam...   \n",
      "4                     [{'id': 35, 'name': 'Comedy'}]   \n",
      "\n",
      "                               homepage     id    imdb_id original_language  \\\n",
      "0  http://toystory.disney.com/toy-story    862  tt0114709                en   \n",
      "1                                   NaN   8844  tt0113497                en   \n",
      "2                                   NaN  15602  tt0113228                en   \n",
      "3                                   NaN  31357  tt0114885                en   \n",
      "4                                   NaN  11862  tt0113041                en   \n",
      "\n",
      "                original_title  \\\n",
      "0                    Toy Story   \n",
      "1                      Jumanji   \n",
      "2             Grumpier Old Men   \n",
      "3            Waiting to Exhale   \n",
      "4  Father of the Bride Part II   \n",
      "\n",
      "                                            overview  ... release_date  \\\n",
      "0  Led by Woody, Andy's toys live happily in his ...  ...   1995-10-30   \n",
      "1  When siblings Judy and Peter discover an encha...  ...   1995-12-15   \n",
      "2  A family wedding reignites the ancient feud be...  ...   1995-12-22   \n",
      "3  Cheated on, mistreated and stepped on, the wom...  ...   1995-12-22   \n",
      "4  Just when George Banks has recovered from his ...  ...   1995-02-10   \n",
      "\n",
      "       revenue runtime                                   spoken_languages  \\\n",
      "0  373554033.0    81.0           [{'iso_639_1': 'en', 'name': 'English'}]   \n",
      "1  262797249.0   104.0  [{'iso_639_1': 'en', 'name': 'English'}, {'iso...   \n",
      "2          0.0   101.0           [{'iso_639_1': 'en', 'name': 'English'}]   \n",
      "3   81452156.0   127.0           [{'iso_639_1': 'en', 'name': 'English'}]   \n",
      "4   76578911.0   106.0           [{'iso_639_1': 'en', 'name': 'English'}]   \n",
      "\n",
      "     status                                            tagline  \\\n",
      "0  Released                                                NaN   \n",
      "1  Released          Roll the dice and unleash the excitement!   \n",
      "2  Released  Still Yelling. Still Fighting. Still Ready for...   \n",
      "3  Released  Friends are the people who let you be yourself...   \n",
      "4  Released  Just When His World Is Back To Normal... He's ...   \n",
      "\n",
      "                         title  video vote_average vote_count  \n",
      "0                    Toy Story  False          7.7     5415.0  \n",
      "1                      Jumanji  False          6.9     2413.0  \n",
      "2             Grumpier Old Men  False          6.5       92.0  \n",
      "3            Waiting to Exhale  False          6.1       34.0  \n",
      "4  Father of the Bride Part II  False          5.7      173.0  \n",
      "\n",
      "[5 rows x 24 columns]\n"
     ]
    }
   ],
   "source": [
    "# Leer el archivo CSV y cargarlo en un DataFrame\n",
    "df = pd.read_csv(\"C:/Users/Usuario/Downloads/movies_dataset.csv\")\n",
    "\n",
    "# Mostrar las primeras 5 filas del DataFrame para examinar la estructura de los datos\n",
    "print(df.head())\n",
    "\n",
    "# df ahora contiene los datos del archivo CSV en formato de DataFrame\n"
   ]
  },
  {
   "cell_type": "code",
   "execution_count": 4,
   "metadata": {},
   "outputs": [],
   "source": [
    "# Especificar las columnas que se desean eliminar del DataFrame\n",
    "columns_to_drop = [\"video\", \"imdb_id\", \"adult\", \"original_title\", \"poster_path\", \"homepage\"]\n",
    "\n",
    "# Eliminar las columnas especificadas del DataFrame\n",
    "# El parámetro errors='ignore' asegura que si alguna de las columnas no existe en el DataFrame, no se generará un error.\n",
    "df = df.drop(columns=columns_to_drop, errors='ignore')\n",
    "\n"
   ]
  },
  {
   "cell_type": "code",
   "execution_count": 5,
   "metadata": {},
   "outputs": [],
   "source": [
    "#Convierto los valores nulos de la columna revenue en 0\n",
    "\n",
    "df[\"revenue\"] = df[\"revenue\"].fillna(0)"
   ]
  },
  {
   "cell_type": "code",
   "execution_count": 6,
   "metadata": {},
   "outputs": [],
   "source": [
    "#Convierto los valores nulos de la columna budget en 0\n",
    "\n",
    "df[\"budget\"] = df[\"budget\"].fillna(0)"
   ]
  },
  {
   "cell_type": "code",
   "execution_count": 7,
   "metadata": {},
   "outputs": [
    {
     "name": "stdout",
     "output_type": "stream",
     "text": [
      "Valores nulos en la columna 'revenue': 0\n",
      "Valores nulos en la columna 'budget': 0\n"
     ]
    }
   ],
   "source": [
    "# Verificar si hay valores nulos en las columnas 'revenue' y 'budget'\n",
    "null_revenue = df['revenue'].isnull().sum()\n",
    "null_budget = df['budget'].isnull().sum()\n",
    "\n",
    "# Mostrar el resultado\n",
    "print(f\"Valores nulos en la columna 'revenue': {null_revenue}\")\n",
    "print(f\"Valores nulos en la columna 'budget': {null_budget}\")"
   ]
  },
  {
   "cell_type": "code",
   "execution_count": 8,
   "metadata": {},
   "outputs": [],
   "source": [
    "# Crear una copia del DataFrame original\n",
    "df2 = df.copy()\n",
    "\n",
    "# Cualquier cambio realizado en 'df2' no afectará al DataFrame original 'df', y viceversa."
   ]
  },
  {
   "cell_type": "code",
   "execution_count": 9,
   "metadata": {},
   "outputs": [],
   "source": [
    "#Elimino los valores nulo de la columna release_date\n",
    "\n",
    "df2 = df2.dropna(subset=['release_date'])"
   ]
  },
  {
   "cell_type": "code",
   "execution_count": 11,
   "metadata": {},
   "outputs": [],
   "source": [
    "# Convertir la columna 'release_date' a formato de fecha `AAAA-mm-dd`\n",
    "\n",
    "df2[\"release_date\"] = pd.to_datetime(df2[\"release_date\"],  errors='coerce')"
   ]
  },
  {
   "cell_type": "code",
   "execution_count": 12,
   "metadata": {},
   "outputs": [],
   "source": [
    "# Extraer el año de la columna 'release_date' y asignarlo a una nueva columna 'release_year'\n",
    "df2['release_year'] = df2['release_date'].dt.year"
   ]
  },
  {
   "cell_type": "code",
   "execution_count": 13,
   "metadata": {},
   "outputs": [],
   "source": [
    "# Convertir la columna 'release_year' a tipo cadena (string)\n",
    "\n",
    "df2['release_year'] = df2['release_year'].astype('Int64').astype('str')"
   ]
  },
  {
   "cell_type": "code",
   "execution_count": 14,
   "metadata": {},
   "outputs": [],
   "source": [
    "# Convertir las columnas 'revenue' y 'budget' a numérico, manejando errores y valores no convertibles\n",
    "df2['revenue'] = pd.to_numeric(df2['revenue'], errors='coerce')\n",
    "df2['budget'] = pd.to_numeric(df2['budget'], errors='coerce')"
   ]
  },
  {
   "cell_type": "code",
   "execution_count": 15,
   "metadata": {},
   "outputs": [],
   "source": [
    "# Crear la columna 'return' calculando el retorno de inversión\n",
    "df2['return'] = df2.apply(\n",
    "    lambda row: row['revenue'] / row['budget'] if row['budget'] != 0 else 0, axis=1\n",
    ")"
   ]
  },
  {
   "cell_type": "code",
   "execution_count": 16,
   "metadata": {},
   "outputs": [],
   "source": [
    "# Formatear la columna 'return' a dos decimales y asegurar que los ceros no tengan decimales\n",
    "df2['return'] = df2['return'].apply(lambda x: f\"{x:.2f}\".rstrip('0').rstrip('.') if x != 0 else '0')"
   ]
  },
  {
   "cell_type": "code",
   "execution_count": 17,
   "metadata": {},
   "outputs": [],
   "source": [
    "# Crear una copia del DataFrame df2\n",
    "df4 = df2.copy()\n",
    "\n",
    "# Esto significa que cualquier modificación realizada en 'df4' no afectará a 'df2', y viceversa."
   ]
  },
  {
   "cell_type": "code",
   "execution_count": 18,
   "metadata": {},
   "outputs": [
    {
     "name": "stdout",
     "output_type": "stream",
     "text": [
      "<class 'pandas.core.frame.DataFrame'>\n",
      "Index: 45379 entries, 0 to 45465\n",
      "Data columns (total 20 columns):\n",
      " #   Column                 Non-Null Count  Dtype         \n",
      "---  ------                 --------------  -----         \n",
      " 0   belongs_to_collection  4491 non-null   object        \n",
      " 1   budget                 45376 non-null  float64       \n",
      " 2   genres                 45379 non-null  object        \n",
      " 3   id                     45379 non-null  object        \n",
      " 4   original_language      45368 non-null  object        \n",
      " 5   overview               44438 non-null  object        \n",
      " 6   popularity             45377 non-null  object        \n",
      " 7   production_companies   45379 non-null  object        \n",
      " 8   production_countries   45379 non-null  object        \n",
      " 9   release_date           45376 non-null  datetime64[ns]\n",
      " 10  revenue                45379 non-null  float64       \n",
      " 11  runtime                45130 non-null  float64       \n",
      " 12  spoken_languages       45376 non-null  object        \n",
      " 13  status                 45296 non-null  object        \n",
      " 14  tagline                20398 non-null  object        \n",
      " 15  title                  45376 non-null  object        \n",
      " 16  vote_average           45376 non-null  float64       \n",
      " 17  vote_count             45376 non-null  float64       \n",
      " 18  release_year           45379 non-null  object        \n",
      " 19  return                 45379 non-null  object        \n",
      "dtypes: datetime64[ns](1), float64(5), object(14)\n",
      "memory usage: 7.3+ MB\n"
     ]
    }
   ],
   "source": [
    "# Mostrar un resumen informativo del DataFrame df4\n",
    "df4.info()"
   ]
  },
  {
   "cell_type": "code",
   "execution_count": 19,
   "metadata": {},
   "outputs": [],
   "source": [
    "def extract_id_and_name(value):\n",
    "    # Verifica si el valor es nulo y devuelve un diccionario con valores NaN para 'id' y 'name'\n",
    "    if pd.isnull(value):\n",
    "        return {'id': np.nan, 'name': np.nan}\n",
    "    \n",
    "    try:\n",
    "        # Intenta convertir el valor en un diccionario utilizando ast.literal_eval\n",
    "        collection_dict = ast.literal_eval(value)\n",
    "        # Verifica si el resultado es un diccionario\n",
    "        if isinstance(collection_dict, dict):\n",
    "            # Extrae 'id' y 'name' del diccionario, o NaN si no están presentes\n",
    "            return {\n",
    "                'id': collection_dict.get('id', np.nan),\n",
    "                'name': collection_dict.get('name', np.nan)\n",
    "            }\n",
    "        else:\n",
    "            return {'id': np.nan, 'name': np.nan}\n",
    "    except (ValueError, SyntaxError):\n",
    "        # Captura errores de conversión y devuelve valores NaN\n",
    "        return {'id': np.nan, 'name': np.nan}\n",
    "\n",
    "# Aplicar la función 'extract_id_and_name' a la columna 'belongs_to_collection'\n",
    "# La función se aplica a cada valor de la columna y se descompone en dos nuevas columnas: 'collection_id' y 'collection_name'\n",
    "df4[['collection_id', 'collection_name']] = df4['belongs_to_collection'].apply(lambda x: pd.Series(extract_id_and_name(x)))\n",
    "\n",
    "# Esta operación convierte las estructuras de datos anidadas en la columna 'belongs_to_collection' en dos columnas separadas\n",
    "# con los valores correspondientes para 'id' y 'name'. Los valores nulos y errores de conversión se manejan adecuadamente."
   ]
  },
  {
   "cell_type": "code",
   "execution_count": 20,
   "metadata": {},
   "outputs": [
    {
     "name": "stdout",
     "output_type": "stream",
     "text": [
      "[{'id': 16, 'name': 'Animation'}, {'id': 35, 'name': 'Comedy'}, {'id': 10751, 'name': 'Family'}]\n",
      "[{'id': 12, 'name': 'Adventure'}, {'id': 14, 'name': 'Fantasy'}, {'id': 10751, 'name': 'Family'}]\n"
     ]
    }
   ],
   "source": [
    "# Mostrar los valores de la columna 'genres' en la fila 1\n",
    "print(df4.loc[0, 'genres'])\n",
    "\n",
    "# Mostrar los valores de la columna 'genres' en la fila 2\n",
    "print(df4.loc[1, 'genres'])"
   ]
  },
  {
   "cell_type": "code",
   "execution_count": 81,
   "metadata": {},
   "outputs": [],
   "source": [
    "# Eliminar filas duplicadas en el DataFrame basadas en la columna 'id'\n",
    "# La opción 'subset='id'' asegura que la eliminación de duplicados se realice considerando solo la columna 'id'.\n",
    "# La opción 'keep='first'' mantiene la primera aparición de cada valor único en la columna 'id' y elimina las filas duplicadas subsiguientes.\n",
    "df_idunicos = df4.drop_duplicates(subset='id', keep='first')\n",
    "\n",
    "# El DataFrame 'df_idunicos' ahora contiene solo una fila por cada valor único en la columna 'id'."
   ]
  },
  {
   "cell_type": "code",
   "execution_count": 22,
   "metadata": {},
   "outputs": [],
   "source": [
    "# Convertir la columna 'id' a tipo cadena (str)\n",
    "# Esto es útil si la columna 'id' contiene valores numéricos que deben tratarse como cadenas\n",
    "# en lugar de números, por ejemplo, para facilitar fusiones con otras tablas o para\n",
    "# evitar posibles errores en el manejo de identificadores únicos.\n",
    "\n",
    "df4['id'] = df4['id'].astype(str)"
   ]
  },
  {
   "cell_type": "code",
   "execution_count": 23,
   "metadata": {},
   "outputs": [],
   "source": [
    "# Se define un nuevo DataFrame para almacenar la información de la columna 'belongs_to_collection'\n",
    "\n",
    "# Se seleccionan las columnas deseadas: 'id', 'collection_id' y 'collection_name'\n",
    "\n",
    "df_belongs_to_collection = df_idunicos[['id', 'collection_id', 'collection_name']]"
   ]
  },
  {
   "cell_type": "code",
   "execution_count": 24,
   "metadata": {},
   "outputs": [],
   "source": [
    "# Se eliminan filas con valores nulos\n",
    "\n",
    "df_belongs_to_collection = df_belongs_to_collection.dropna(subset=['collection_id', 'collection_name'])"
   ]
  },
  {
   "cell_type": "code",
   "execution_count": 25,
   "metadata": {},
   "outputs": [],
   "source": [
    "# La función lambda utiliza una expresión regular (regex) para buscar y eliminar cualquier '.0' al final de la cadena.\n",
    "\n",
    "df_belongs_to_collection['collection_id'] = df_belongs_to_collection['collection_id'].apply(lambda x: re.sub(r'\\.0$', '', str(x)))\n"
   ]
  },
  {
   "cell_type": "code",
   "execution_count": 26,
   "metadata": {},
   "outputs": [],
   "source": [
    "# Definir la ruta del archivo CSV\n",
    "# Esta es la ubicación en el sistema de archivos donde se guardará el DataFrame como un archivo CSV.\n",
    "ruta_archivo = 'C:/Users/Usuario/Desktop/Desarrollo de mi proyecto python/Proyecto/Data Limpia Movies/df_belongs_to_collection.csv'\n",
    "\n",
    "# Guardar el DataFrame en un archivo CSV\n",
    "# El DataFrame 'df_belongs_to_collection' se guarda en la ruta especificada, \n",
    "# sin incluir los índices (index=False) para que no se agregue una columna extra con los índices del DataFrame.\n",
    "df_belongs_to_collection.to_csv(ruta_archivo, index=False)"
   ]
  },
  {
   "cell_type": "code",
   "execution_count": 27,
   "metadata": {},
   "outputs": [],
   "source": [
    "# Crear un nuevo DataFrame con las columnas 'genres' e 'id'\n",
    "df_genres_id = df_idunicos[['genres', 'id']]"
   ]
  },
  {
   "cell_type": "code",
   "execution_count": 28,
   "metadata": {},
   "outputs": [
    {
     "name": "stderr",
     "output_type": "stream",
     "text": [
      "C:\\Users\\Usuario\\AppData\\Local\\Temp\\ipykernel_8104\\722462.py:2: SettingWithCopyWarning: \n",
      "A value is trying to be set on a copy of a slice from a DataFrame.\n",
      "Try using .loc[row_indexer,col_indexer] = value instead\n",
      "\n",
      "See the caveats in the documentation: https://pandas.pydata.org/pandas-docs/stable/user_guide/indexing.html#returning-a-view-versus-a-copy\n",
      "  df_genres_id['genres'] = df_genres_id['genres'].apply(ast.literal_eval)\n"
     ]
    },
    {
     "name": "stdout",
     "output_type": "stream",
     "text": [
      "           id  id_genre      genre\n",
      "0         862      16.0  Animation\n",
      "1         862      35.0     Comedy\n",
      "2         862   10751.0     Family\n",
      "3        8844      12.0  Adventure\n",
      "4        8844      14.0    Fantasy\n",
      "...       ...       ...        ...\n",
      "90964   30840   10749.0    Romance\n",
      "90965  111109      18.0      Drama\n",
      "90966   67758      28.0     Action\n",
      "90967   67758      18.0      Drama\n",
      "90968   67758      53.0   Thriller\n",
      "\n",
      "[90969 rows x 3 columns]\n"
     ]
    }
   ],
   "source": [
    "# Convertir cadenas en listas de diccionarios\n",
    "df_genres_id['genres'] = df_genres_id['genres'].apply(ast.literal_eval)\n",
    "\n",
    "# Separar cada género en una fila individual (explode)\n",
    "df_exploded = df_genres_id.explode('genres')\n",
    "\n",
    "\n",
    "# Extraer id y nombre del género\n",
    "df_exploded['id_genre'] = df_exploded['genres'].apply(lambda x: x.get('id') if isinstance(x, dict) else None)\n",
    "df_exploded['genre'] = df_exploded['genres'].apply(lambda x: x.get('name') if isinstance(x, dict) else None)\n",
    "\n",
    "# Eliminar filas con valores nulos y columna original genres\n",
    "df_exploded = df_exploded.dropna(subset=['id_genre', 'genre'])\n",
    "df_exploded = df_exploded.drop(columns=['genres'])\n",
    "\n",
    "# Resetear el índice\n",
    "df_exploded = df_exploded.reset_index(drop=True)\n",
    "\n",
    "print(df_exploded)"
   ]
  },
  {
   "cell_type": "code",
   "execution_count": 29,
   "metadata": {},
   "outputs": [],
   "source": [
    "# Eliminar el '.0' de los valores en la columna 'id_companies'\n",
    "df_exploded['id_genre'] = df_exploded['id_genre'].apply(lambda x: re.sub(r'\\.0$', '', str(x)))\n"
   ]
  },
  {
   "cell_type": "code",
   "execution_count": 30,
   "metadata": {},
   "outputs": [
    {
     "data": {
      "text/html": [
       "<div>\n",
       "<style scoped>\n",
       "    .dataframe tbody tr th:only-of-type {\n",
       "        vertical-align: middle;\n",
       "    }\n",
       "\n",
       "    .dataframe tbody tr th {\n",
       "        vertical-align: top;\n",
       "    }\n",
       "\n",
       "    .dataframe thead th {\n",
       "        text-align: right;\n",
       "    }\n",
       "</style>\n",
       "<table border=\"1\" class=\"dataframe\">\n",
       "  <thead>\n",
       "    <tr style=\"text-align: right;\">\n",
       "      <th></th>\n",
       "      <th>id</th>\n",
       "      <th>id_genre</th>\n",
       "      <th>genre</th>\n",
       "    </tr>\n",
       "  </thead>\n",
       "  <tbody>\n",
       "    <tr>\n",
       "      <th>0</th>\n",
       "      <td>862</td>\n",
       "      <td>16</td>\n",
       "      <td>Animation</td>\n",
       "    </tr>\n",
       "    <tr>\n",
       "      <th>1</th>\n",
       "      <td>862</td>\n",
       "      <td>35</td>\n",
       "      <td>Comedy</td>\n",
       "    </tr>\n",
       "    <tr>\n",
       "      <th>2</th>\n",
       "      <td>862</td>\n",
       "      <td>10751</td>\n",
       "      <td>Family</td>\n",
       "    </tr>\n",
       "    <tr>\n",
       "      <th>3</th>\n",
       "      <td>8844</td>\n",
       "      <td>12</td>\n",
       "      <td>Adventure</td>\n",
       "    </tr>\n",
       "    <tr>\n",
       "      <th>4</th>\n",
       "      <td>8844</td>\n",
       "      <td>14</td>\n",
       "      <td>Fantasy</td>\n",
       "    </tr>\n",
       "    <tr>\n",
       "      <th>...</th>\n",
       "      <td>...</td>\n",
       "      <td>...</td>\n",
       "      <td>...</td>\n",
       "    </tr>\n",
       "    <tr>\n",
       "      <th>90964</th>\n",
       "      <td>30840</td>\n",
       "      <td>10749</td>\n",
       "      <td>Romance</td>\n",
       "    </tr>\n",
       "    <tr>\n",
       "      <th>90965</th>\n",
       "      <td>111109</td>\n",
       "      <td>18</td>\n",
       "      <td>Drama</td>\n",
       "    </tr>\n",
       "    <tr>\n",
       "      <th>90966</th>\n",
       "      <td>67758</td>\n",
       "      <td>28</td>\n",
       "      <td>Action</td>\n",
       "    </tr>\n",
       "    <tr>\n",
       "      <th>90967</th>\n",
       "      <td>67758</td>\n",
       "      <td>18</td>\n",
       "      <td>Drama</td>\n",
       "    </tr>\n",
       "    <tr>\n",
       "      <th>90968</th>\n",
       "      <td>67758</td>\n",
       "      <td>53</td>\n",
       "      <td>Thriller</td>\n",
       "    </tr>\n",
       "  </tbody>\n",
       "</table>\n",
       "<p>90969 rows × 3 columns</p>\n",
       "</div>"
      ],
      "text/plain": [
       "           id id_genre      genre\n",
       "0         862       16  Animation\n",
       "1         862       35     Comedy\n",
       "2         862    10751     Family\n",
       "3        8844       12  Adventure\n",
       "4        8844       14    Fantasy\n",
       "...       ...      ...        ...\n",
       "90964   30840    10749    Romance\n",
       "90965  111109       18      Drama\n",
       "90966   67758       28     Action\n",
       "90967   67758       18      Drama\n",
       "90968   67758       53   Thriller\n",
       "\n",
       "[90969 rows x 3 columns]"
      ]
     },
     "execution_count": 30,
     "metadata": {},
     "output_type": "execute_result"
    }
   ],
   "source": [
    "df_exploded"
   ]
  },
  {
   "cell_type": "code",
   "execution_count": 31,
   "metadata": {},
   "outputs": [],
   "source": [
    "# Definir la ruta del archivo CSV\n",
    "ruta_archivo = 'C:/Users/Usuario/Desktop/Desarrollo de mi proyecto python/Proyecto/Data Limpia Movies/df_exploded.csv'\n",
    "\n",
    "\n",
    "# Guardar el DataFrame en un archivo CSV\n",
    "df_exploded.to_csv(ruta_archivo, index=False)"
   ]
  },
  {
   "cell_type": "code",
   "execution_count": 32,
   "metadata": {},
   "outputs": [],
   "source": [
    "#  Crear un nuevo DataFrame que contiene la información de las compañías de producción y sus respectivos IDs de película\n",
    "df_productioncompanies_id = df_idunicos[['production_companies', 'id']]"
   ]
  },
  {
   "cell_type": "code",
   "execution_count": 33,
   "metadata": {},
   "outputs": [
    {
     "name": "stderr",
     "output_type": "stream",
     "text": [
      "C:\\Users\\Usuario\\AppData\\Local\\Temp\\ipykernel_8104\\1004446786.py:2: SettingWithCopyWarning: \n",
      "A value is trying to be set on a copy of a slice from a DataFrame.\n",
      "Try using .loc[row_indexer,col_indexer] = value instead\n",
      "\n",
      "See the caveats in the documentation: https://pandas.pydata.org/pandas-docs/stable/user_guide/indexing.html#returning-a-view-versus-a-copy\n",
      "  df_productioncompanies_id['production_companies'] = df_productioncompanies_id['production_companies'].apply(ast.literal_eval)\n"
     ]
    }
   ],
   "source": [
    "# Convertir cadenas que representan listas de diccionarios en objetos de Python\n",
    "df_productioncompanies_id['production_companies'] = df_productioncompanies_id['production_companies'].apply(ast.literal_eval)\n",
    "\n",
    "# Separar cada compañía de producción en una fila individual (explode)\n",
    "df_production_companies = df_productioncompanies_id.explode('production_companies')\n",
    "\n",
    "# Extraer el 'id' y el 'name' de cada compañía de producción, verificando que sea un diccionario\n",
    "df_production_companies['id_companies'] = df_production_companies['production_companies'].apply(lambda x: x.get('id') if isinstance(x, dict) else None)\n",
    "df_production_companies['companies'] = df_production_companies['production_companies'].apply(lambda x: x.get('name') if isinstance(x, dict) else None)\n",
    "\n",
    "# Eliminar filas con valores nulos en 'id_companies' o 'companies'\n",
    "df_production_companies = df_production_companies.dropna(subset=['id_companies', 'companies'])\n",
    "\n",
    "# Eliminar la columna original 'production_companies' que ya no es necesaria\n",
    "df_production_companies = df_production_companies.drop(columns=['production_companies'])\n",
    "\n",
    "# Resetear el índice para que sea secuencial después de eliminar filas\n",
    "df_production_companies = df_production_companies.reset_index(drop=True)"
   ]
  },
  {
   "cell_type": "code",
   "execution_count": 34,
   "metadata": {},
   "outputs": [],
   "source": [
    "# Limpiar el sufijo '.0' de los valores en la columna 'id_companies'\n",
    "# Esto estandariza los IDs de las compañías de producción, eliminando cualquier sufijo innecesario en formato de número decimal\n",
    "\n",
    "df_production_companies['id_companies'] = df_production_companies['id_companies'].apply(lambda x: re.sub(r'\\.0$', '', str(x)))\n"
   ]
  },
  {
   "cell_type": "code",
   "execution_count": 35,
   "metadata": {},
   "outputs": [
    {
     "data": {
      "text/html": [
       "<div>\n",
       "<style scoped>\n",
       "    .dataframe tbody tr th:only-of-type {\n",
       "        vertical-align: middle;\n",
       "    }\n",
       "\n",
       "    .dataframe tbody tr th {\n",
       "        vertical-align: top;\n",
       "    }\n",
       "\n",
       "    .dataframe thead th {\n",
       "        text-align: right;\n",
       "    }\n",
       "</style>\n",
       "<table border=\"1\" class=\"dataframe\">\n",
       "  <thead>\n",
       "    <tr style=\"text-align: right;\">\n",
       "      <th></th>\n",
       "      <th>id</th>\n",
       "      <th>id_companies</th>\n",
       "      <th>companies</th>\n",
       "    </tr>\n",
       "  </thead>\n",
       "  <tbody>\n",
       "    <tr>\n",
       "      <th>0</th>\n",
       "      <td>862</td>\n",
       "      <td>3</td>\n",
       "      <td>Pixar Animation Studios</td>\n",
       "    </tr>\n",
       "    <tr>\n",
       "      <th>1</th>\n",
       "      <td>8844</td>\n",
       "      <td>559</td>\n",
       "      <td>TriStar Pictures</td>\n",
       "    </tr>\n",
       "    <tr>\n",
       "      <th>2</th>\n",
       "      <td>8844</td>\n",
       "      <td>2550</td>\n",
       "      <td>Teitler Film</td>\n",
       "    </tr>\n",
       "    <tr>\n",
       "      <th>3</th>\n",
       "      <td>8844</td>\n",
       "      <td>10201</td>\n",
       "      <td>Interscope Communications</td>\n",
       "    </tr>\n",
       "    <tr>\n",
       "      <th>4</th>\n",
       "      <td>15602</td>\n",
       "      <td>6194</td>\n",
       "      <td>Warner Bros.</td>\n",
       "    </tr>\n",
       "    <tr>\n",
       "      <th>...</th>\n",
       "      <td>...</td>\n",
       "      <td>...</td>\n",
       "      <td>...</td>\n",
       "    </tr>\n",
       "    <tr>\n",
       "      <th>70444</th>\n",
       "      <td>30840</td>\n",
       "      <td>16323</td>\n",
       "      <td>20th Century Fox Television</td>\n",
       "    </tr>\n",
       "    <tr>\n",
       "      <th>70445</th>\n",
       "      <td>30840</td>\n",
       "      <td>38978</td>\n",
       "      <td>CanWest Global Communications</td>\n",
       "    </tr>\n",
       "    <tr>\n",
       "      <th>70446</th>\n",
       "      <td>111109</td>\n",
       "      <td>19653</td>\n",
       "      <td>Sine Olivia</td>\n",
       "    </tr>\n",
       "    <tr>\n",
       "      <th>70447</th>\n",
       "      <td>67758</td>\n",
       "      <td>6165</td>\n",
       "      <td>American World Pictures</td>\n",
       "    </tr>\n",
       "    <tr>\n",
       "      <th>70448</th>\n",
       "      <td>227506</td>\n",
       "      <td>88753</td>\n",
       "      <td>Yermoliev</td>\n",
       "    </tr>\n",
       "  </tbody>\n",
       "</table>\n",
       "<p>70449 rows × 3 columns</p>\n",
       "</div>"
      ],
      "text/plain": [
       "           id id_companies                      companies\n",
       "0         862            3        Pixar Animation Studios\n",
       "1        8844          559               TriStar Pictures\n",
       "2        8844         2550                   Teitler Film\n",
       "3        8844        10201      Interscope Communications\n",
       "4       15602         6194                   Warner Bros.\n",
       "...       ...          ...                            ...\n",
       "70444   30840        16323    20th Century Fox Television\n",
       "70445   30840        38978  CanWest Global Communications\n",
       "70446  111109        19653                    Sine Olivia\n",
       "70447   67758         6165        American World Pictures\n",
       "70448  227506        88753                      Yermoliev\n",
       "\n",
       "[70449 rows x 3 columns]"
      ]
     },
     "execution_count": 35,
     "metadata": {},
     "output_type": "execute_result"
    }
   ],
   "source": [
    "df_production_companies"
   ]
  },
  {
   "cell_type": "code",
   "execution_count": 36,
   "metadata": {},
   "outputs": [],
   "source": [
    "\n",
    "# Definir la ruta del archivo CSV\n",
    "ruta_archivo = 'C:/Users/Usuario/Desktop/Desarrollo de mi proyecto python/Proyecto/Data Limpia Movies/df_production_companies.csv'\n",
    "\n",
    "\n",
    "# Guardar el DataFrame en un archivo CSV\n",
    "df_production_companies.to_csv(ruta_archivo, index=False)"
   ]
  },
  {
   "cell_type": "code",
   "execution_count": 37,
   "metadata": {},
   "outputs": [
    {
     "name": "stdout",
     "output_type": "stream",
     "text": [
      "0             [{'iso_639_1': 'en', 'name': 'English'}]\n",
      "1    [{'iso_639_1': 'en', 'name': 'English'}, {'iso...\n",
      "2             [{'iso_639_1': 'en', 'name': 'English'}]\n",
      "3             [{'iso_639_1': 'en', 'name': 'English'}]\n",
      "4             [{'iso_639_1': 'en', 'name': 'English'}]\n",
      "Name: spoken_languages, dtype: object\n"
     ]
    }
   ],
   "source": [
    "# Imprimir las primeras 5 filas de la columna 'spoken_languages' para revisar su contenido\n",
    "print(df_idunicos['spoken_languages'].head())"
   ]
  },
  {
   "cell_type": "code",
   "execution_count": 38,
   "metadata": {},
   "outputs": [
    {
     "name": "stdout",
     "output_type": "stream",
     "text": [
      "[{'iso_639_1': 'en', 'name': 'English'}, {'iso_639_1': 'fr', 'name': 'Français'}]\n"
     ]
    }
   ],
   "source": [
    "# Verificar la estructura de un valor en la columna 'production_companies'\n",
    "example_value = df_idunicos['spoken_languages'].iloc[1]\n",
    "print(example_value)"
   ]
  },
  {
   "cell_type": "code",
   "execution_count": 39,
   "metadata": {},
   "outputs": [],
   "source": [
    "df_languages = df_idunicos[[\"id\", \"spoken_languages\"]].copy()"
   ]
  },
  {
   "cell_type": "code",
   "execution_count": 40,
   "metadata": {},
   "outputs": [],
   "source": [
    "#Elimino filas nulas de la columna spoken_languages\n",
    "df_languages = df_languages.dropna(subset=[\"spoken_languages\"])"
   ]
  },
  {
   "cell_type": "code",
   "execution_count": 41,
   "metadata": {},
   "outputs": [
    {
     "name": "stdout",
     "output_type": "stream",
     "text": [
      "      id language_abrev language_movie\n",
      "0    862             en        English\n",
      "1   8844             en        English\n",
      "2   8844             fr       Français\n",
      "3  15602             en        English\n",
      "4  31357             en        English\n"
     ]
    }
   ],
   "source": [
    "# Función para limpiar y extraer los datos de la columna 'spoken_languages'\n",
    "def clean_and_extract(languages):\n",
    "    \"\"\"\n",
    "    Convierte una cadena de listas de diccionarios a una lista de tuplas (abreviatura del idioma, nombre del idioma).\n",
    "    \"\"\"\n",
    "    # Convertir la cadena de listas de diccionarios a una lista de diccionarios\n",
    "    languages = ast.literal_eval(languages)\n",
    "    clean_data = []\n",
    "    for lang in languages:\n",
    "        # Verificar si el elemento es un diccionario y contiene las claves necesarias\n",
    "        if isinstance(lang, dict) and 'iso_639_1' in lang and 'name' in lang:\n",
    "            clean_data.append((lang['iso_639_1'], lang['name']))\n",
    "    return clean_data\n",
    "\n",
    "# Crear listas para almacenar los datos extraídos\n",
    "id_list = []\n",
    "language_abrev_list = []\n",
    "language_movie_list = []\n",
    "\n",
    "# Iterar sobre el DataFrame para procesar cada fila\n",
    "for idx, row in df_languages.iterrows():\n",
    "    # Limpiar y extraer los datos de la columna 'spoken_languages'\n",
    "    clean_languages = clean_and_extract(row['spoken_languages'])\n",
    "    # Duplicar filas según la cantidad de lenguajes extraídos\n",
    "    for lang in clean_languages:\n",
    "        id_list.append(row['id'])\n",
    "        language_abrev_list.append(lang[0])\n",
    "        language_movie_list.append(lang[1])\n",
    "\n",
    "# Crear un nuevo DataFrame con las listas generadas\n",
    "df_cleaned = pd.DataFrame({\n",
    "    'id': id_list,                  # ID de la película\n",
    "    'language_abrev': language_abrev_list,  # Abreviatura del idioma\n",
    "    'language_movie': language_movie_list   # Nombre completo del idioma\n",
    "})\n",
    "\n",
    "# Imprimir el DataFrame resultante para verificar el resultado\n",
    "print(df_cleaned.head())"
   ]
  },
  {
   "cell_type": "code",
   "execution_count": 42,
   "metadata": {},
   "outputs": [
    {
     "data": {
      "text/html": [
       "<div>\n",
       "<style scoped>\n",
       "    .dataframe tbody tr th:only-of-type {\n",
       "        vertical-align: middle;\n",
       "    }\n",
       "\n",
       "    .dataframe tbody tr th {\n",
       "        vertical-align: top;\n",
       "    }\n",
       "\n",
       "    .dataframe thead th {\n",
       "        text-align: right;\n",
       "    }\n",
       "</style>\n",
       "<table border=\"1\" class=\"dataframe\">\n",
       "  <thead>\n",
       "    <tr style=\"text-align: right;\">\n",
       "      <th></th>\n",
       "      <th>id</th>\n",
       "      <th>language_abrev</th>\n",
       "      <th>language_movie</th>\n",
       "    </tr>\n",
       "  </thead>\n",
       "  <tbody>\n",
       "    <tr>\n",
       "      <th>0</th>\n",
       "      <td>862</td>\n",
       "      <td>en</td>\n",
       "      <td>English</td>\n",
       "    </tr>\n",
       "    <tr>\n",
       "      <th>1</th>\n",
       "      <td>8844</td>\n",
       "      <td>en</td>\n",
       "      <td>English</td>\n",
       "    </tr>\n",
       "    <tr>\n",
       "      <th>2</th>\n",
       "      <td>8844</td>\n",
       "      <td>fr</td>\n",
       "      <td>Français</td>\n",
       "    </tr>\n",
       "    <tr>\n",
       "      <th>3</th>\n",
       "      <td>15602</td>\n",
       "      <td>en</td>\n",
       "      <td>English</td>\n",
       "    </tr>\n",
       "    <tr>\n",
       "      <th>4</th>\n",
       "      <td>31357</td>\n",
       "      <td>en</td>\n",
       "      <td>English</td>\n",
       "    </tr>\n",
       "    <tr>\n",
       "      <th>...</th>\n",
       "      <td>...</td>\n",
       "      <td>...</td>\n",
       "      <td>...</td>\n",
       "    </tr>\n",
       "    <tr>\n",
       "      <th>53235</th>\n",
       "      <td>222848</td>\n",
       "      <td>en</td>\n",
       "      <td>English</td>\n",
       "    </tr>\n",
       "    <tr>\n",
       "      <th>53236</th>\n",
       "      <td>30840</td>\n",
       "      <td>en</td>\n",
       "      <td>English</td>\n",
       "    </tr>\n",
       "    <tr>\n",
       "      <th>53237</th>\n",
       "      <td>111109</td>\n",
       "      <td>tl</td>\n",
       "      <td></td>\n",
       "    </tr>\n",
       "    <tr>\n",
       "      <th>53238</th>\n",
       "      <td>67758</td>\n",
       "      <td>en</td>\n",
       "      <td>English</td>\n",
       "    </tr>\n",
       "    <tr>\n",
       "      <th>53239</th>\n",
       "      <td>461257</td>\n",
       "      <td>en</td>\n",
       "      <td>English</td>\n",
       "    </tr>\n",
       "  </tbody>\n",
       "</table>\n",
       "<p>53240 rows × 3 columns</p>\n",
       "</div>"
      ],
      "text/plain": [
       "           id language_abrev language_movie\n",
       "0         862             en        English\n",
       "1        8844             en        English\n",
       "2        8844             fr       Français\n",
       "3       15602             en        English\n",
       "4       31357             en        English\n",
       "...       ...            ...            ...\n",
       "53235  222848             en        English\n",
       "53236   30840             en        English\n",
       "53237  111109             tl               \n",
       "53238   67758             en        English\n",
       "53239  461257             en        English\n",
       "\n",
       "[53240 rows x 3 columns]"
      ]
     },
     "metadata": {},
     "output_type": "display_data"
    }
   ],
   "source": [
    "display(df_cleaned)"
   ]
  },
  {
   "cell_type": "code",
   "execution_count": 43,
   "metadata": {},
   "outputs": [],
   "source": [
    "# Definir la ruta del archivo CSV\n",
    "ruta_archivo = 'C:/Users/Usuario/Desktop/Desarrollo de mi proyecto python/Proyecto/Data Limpia Movies/df_cleaned.csv'\n",
    "\n",
    "# Guardar el DataFrame en un archivo CSV\n",
    "df_cleaned.to_csv(ruta_archivo, index=False)"
   ]
  },
  {
   "cell_type": "code",
   "execution_count": 44,
   "metadata": {},
   "outputs": [],
   "source": [
    "# Crear un nuevo DataFrame con las columnas 'id' y 'title'\n",
    "df_title = df_idunicos[['id', 'title']]"
   ]
  },
  {
   "cell_type": "code",
   "execution_count": 45,
   "metadata": {},
   "outputs": [],
   "source": [
    "# Definir la ruta del archivo CSV donde se guardará el DataFrame\n",
    "ruta_archivo = 'C:/Users/Usuario/Desktop/Desarrollo de mi proyecto python/Proyecto/Data Limpia Movies/df_title.csv'\n",
    "\n",
    "# Guardar el DataFrame 'df_title' en un archivo CSV en la ruta especificada\n",
    "# Se usa index=False para no incluir el índice del DataFrame en el archivo CSV\n",
    "df_title.to_csv(ruta_archivo, index=False)"
   ]
  },
  {
   "cell_type": "code",
   "execution_count": 83,
   "metadata": {},
   "outputs": [],
   "source": [
    "# Crear un nuevo DataFrame eliminando las columnas especificadas\n",
    "df_central = df_idunicos.drop(columns=[\n",
    "    'belongs_to_collection', \n",
    "    'genres', \n",
    "    'overview', \n",
    "    'production_companies', \n",
    "    'production_countries', \n",
    "    'collection_id', \n",
    "    'collection_name',\n",
    "    'spoken_languages',\n",
    "    'tagline',\n",
    "])"
   ]
  },
  {
   "cell_type": "code",
   "execution_count": 47,
   "metadata": {},
   "outputs": [],
   "source": [
    "# Eliminar los '.0' al final de los valores en la columna 'runtime'\n",
    "\n",
    "df_central[\"runtime\"] = df_central[\"runtime\"].apply(lambda x: re.sub(r'\\.0$', '', str(x)))"
   ]
  },
  {
   "cell_type": "code",
   "execution_count": 48,
   "metadata": {},
   "outputs": [],
   "source": [
    "# Eliminar los '.0' al final de los valores en la columna 'budget'\n",
    "\n",
    "df_central[\"budget\"] = df_central[\"budget\"].apply(lambda x: re.sub(r'\\.0$', '', str(x)))"
   ]
  },
  {
   "cell_type": "code",
   "execution_count": 49,
   "metadata": {},
   "outputs": [
    {
     "data": {
      "text/html": [
       "<div>\n",
       "<style scoped>\n",
       "    .dataframe tbody tr th:only-of-type {\n",
       "        vertical-align: middle;\n",
       "    }\n",
       "\n",
       "    .dataframe tbody tr th {\n",
       "        vertical-align: top;\n",
       "    }\n",
       "\n",
       "    .dataframe thead th {\n",
       "        text-align: right;\n",
       "    }\n",
       "</style>\n",
       "<table border=\"1\" class=\"dataframe\">\n",
       "  <thead>\n",
       "    <tr style=\"text-align: right;\">\n",
       "      <th></th>\n",
       "      <th>budget</th>\n",
       "      <th>id</th>\n",
       "      <th>original_language</th>\n",
       "      <th>popularity</th>\n",
       "      <th>release_date</th>\n",
       "      <th>revenue</th>\n",
       "      <th>runtime</th>\n",
       "      <th>status</th>\n",
       "      <th>vote_average</th>\n",
       "      <th>vote_count</th>\n",
       "      <th>release_year</th>\n",
       "      <th>return</th>\n",
       "    </tr>\n",
       "  </thead>\n",
       "  <tbody>\n",
       "    <tr>\n",
       "      <th>0</th>\n",
       "      <td>30000000</td>\n",
       "      <td>862</td>\n",
       "      <td>en</td>\n",
       "      <td>21.946943</td>\n",
       "      <td>1995-10-30</td>\n",
       "      <td>373554033.0</td>\n",
       "      <td>81</td>\n",
       "      <td>Released</td>\n",
       "      <td>7.7</td>\n",
       "      <td>5415.0</td>\n",
       "      <td>1995</td>\n",
       "      <td>12.45</td>\n",
       "    </tr>\n",
       "    <tr>\n",
       "      <th>1</th>\n",
       "      <td>65000000</td>\n",
       "      <td>8844</td>\n",
       "      <td>en</td>\n",
       "      <td>17.015539</td>\n",
       "      <td>1995-12-15</td>\n",
       "      <td>262797249.0</td>\n",
       "      <td>104</td>\n",
       "      <td>Released</td>\n",
       "      <td>6.9</td>\n",
       "      <td>2413.0</td>\n",
       "      <td>1995</td>\n",
       "      <td>4.04</td>\n",
       "    </tr>\n",
       "    <tr>\n",
       "      <th>2</th>\n",
       "      <td>0</td>\n",
       "      <td>15602</td>\n",
       "      <td>en</td>\n",
       "      <td>11.7129</td>\n",
       "      <td>1995-12-22</td>\n",
       "      <td>0.0</td>\n",
       "      <td>101</td>\n",
       "      <td>Released</td>\n",
       "      <td>6.5</td>\n",
       "      <td>92.0</td>\n",
       "      <td>1995</td>\n",
       "      <td>0</td>\n",
       "    </tr>\n",
       "    <tr>\n",
       "      <th>3</th>\n",
       "      <td>16000000</td>\n",
       "      <td>31357</td>\n",
       "      <td>en</td>\n",
       "      <td>3.859495</td>\n",
       "      <td>1995-12-22</td>\n",
       "      <td>81452156.0</td>\n",
       "      <td>127</td>\n",
       "      <td>Released</td>\n",
       "      <td>6.1</td>\n",
       "      <td>34.0</td>\n",
       "      <td>1995</td>\n",
       "      <td>5.09</td>\n",
       "    </tr>\n",
       "    <tr>\n",
       "      <th>4</th>\n",
       "      <td>0</td>\n",
       "      <td>11862</td>\n",
       "      <td>en</td>\n",
       "      <td>8.387519</td>\n",
       "      <td>1995-02-10</td>\n",
       "      <td>76578911.0</td>\n",
       "      <td>106</td>\n",
       "      <td>Released</td>\n",
       "      <td>5.7</td>\n",
       "      <td>173.0</td>\n",
       "      <td>1995</td>\n",
       "      <td>0</td>\n",
       "    </tr>\n",
       "    <tr>\n",
       "      <th>...</th>\n",
       "      <td>...</td>\n",
       "      <td>...</td>\n",
       "      <td>...</td>\n",
       "      <td>...</td>\n",
       "      <td>...</td>\n",
       "      <td>...</td>\n",
       "      <td>...</td>\n",
       "      <td>...</td>\n",
       "      <td>...</td>\n",
       "      <td>...</td>\n",
       "      <td>...</td>\n",
       "      <td>...</td>\n",
       "    </tr>\n",
       "    <tr>\n",
       "      <th>45460</th>\n",
       "      <td>0</td>\n",
       "      <td>30840</td>\n",
       "      <td>en</td>\n",
       "      <td>5.683753</td>\n",
       "      <td>1991-05-13</td>\n",
       "      <td>0.0</td>\n",
       "      <td>104</td>\n",
       "      <td>Released</td>\n",
       "      <td>5.7</td>\n",
       "      <td>26.0</td>\n",
       "      <td>1991</td>\n",
       "      <td>0</td>\n",
       "    </tr>\n",
       "    <tr>\n",
       "      <th>45462</th>\n",
       "      <td>0</td>\n",
       "      <td>111109</td>\n",
       "      <td>tl</td>\n",
       "      <td>0.178241</td>\n",
       "      <td>2011-11-17</td>\n",
       "      <td>0.0</td>\n",
       "      <td>360</td>\n",
       "      <td>Released</td>\n",
       "      <td>9.0</td>\n",
       "      <td>3.0</td>\n",
       "      <td>2011</td>\n",
       "      <td>0</td>\n",
       "    </tr>\n",
       "    <tr>\n",
       "      <th>45463</th>\n",
       "      <td>0</td>\n",
       "      <td>67758</td>\n",
       "      <td>en</td>\n",
       "      <td>0.903007</td>\n",
       "      <td>2003-08-01</td>\n",
       "      <td>0.0</td>\n",
       "      <td>90</td>\n",
       "      <td>Released</td>\n",
       "      <td>3.8</td>\n",
       "      <td>6.0</td>\n",
       "      <td>2003</td>\n",
       "      <td>0</td>\n",
       "    </tr>\n",
       "    <tr>\n",
       "      <th>45464</th>\n",
       "      <td>0</td>\n",
       "      <td>227506</td>\n",
       "      <td>en</td>\n",
       "      <td>0.003503</td>\n",
       "      <td>1917-10-21</td>\n",
       "      <td>0.0</td>\n",
       "      <td>87</td>\n",
       "      <td>Released</td>\n",
       "      <td>0.0</td>\n",
       "      <td>0.0</td>\n",
       "      <td>1917</td>\n",
       "      <td>0</td>\n",
       "    </tr>\n",
       "    <tr>\n",
       "      <th>45465</th>\n",
       "      <td>0</td>\n",
       "      <td>461257</td>\n",
       "      <td>en</td>\n",
       "      <td>0.163015</td>\n",
       "      <td>2017-06-09</td>\n",
       "      <td>0.0</td>\n",
       "      <td>75</td>\n",
       "      <td>Released</td>\n",
       "      <td>0.0</td>\n",
       "      <td>0.0</td>\n",
       "      <td>2017</td>\n",
       "      <td>0</td>\n",
       "    </tr>\n",
       "  </tbody>\n",
       "</table>\n",
       "<p>45349 rows × 12 columns</p>\n",
       "</div>"
      ],
      "text/plain": [
       "         budget      id original_language popularity release_date  \\\n",
       "0      30000000     862                en  21.946943   1995-10-30   \n",
       "1      65000000    8844                en  17.015539   1995-12-15   \n",
       "2             0   15602                en    11.7129   1995-12-22   \n",
       "3      16000000   31357                en   3.859495   1995-12-22   \n",
       "4             0   11862                en   8.387519   1995-02-10   \n",
       "...         ...     ...               ...        ...          ...   \n",
       "45460         0   30840                en   5.683753   1991-05-13   \n",
       "45462         0  111109                tl   0.178241   2011-11-17   \n",
       "45463         0   67758                en   0.903007   2003-08-01   \n",
       "45464         0  227506                en   0.003503   1917-10-21   \n",
       "45465         0  461257                en   0.163015   2017-06-09   \n",
       "\n",
       "           revenue runtime    status  vote_average  vote_count release_year  \\\n",
       "0      373554033.0      81  Released           7.7      5415.0         1995   \n",
       "1      262797249.0     104  Released           6.9      2413.0         1995   \n",
       "2              0.0     101  Released           6.5        92.0         1995   \n",
       "3       81452156.0     127  Released           6.1        34.0         1995   \n",
       "4       76578911.0     106  Released           5.7       173.0         1995   \n",
       "...            ...     ...       ...           ...         ...          ...   \n",
       "45460          0.0     104  Released           5.7        26.0         1991   \n",
       "45462          0.0     360  Released           9.0         3.0         2011   \n",
       "45463          0.0      90  Released           3.8         6.0         2003   \n",
       "45464          0.0      87  Released           0.0         0.0         1917   \n",
       "45465          0.0      75  Released           0.0         0.0         2017   \n",
       "\n",
       "      return  \n",
       "0      12.45  \n",
       "1       4.04  \n",
       "2          0  \n",
       "3       5.09  \n",
       "4          0  \n",
       "...      ...  \n",
       "45460      0  \n",
       "45462      0  \n",
       "45463      0  \n",
       "45464      0  \n",
       "45465      0  \n",
       "\n",
       "[45349 rows x 12 columns]"
      ]
     },
     "execution_count": 49,
     "metadata": {},
     "output_type": "execute_result"
    }
   ],
   "source": [
    "df_central"
   ]
  },
  {
   "cell_type": "code",
   "execution_count": 50,
   "metadata": {},
   "outputs": [
    {
     "name": "stdout",
     "output_type": "stream",
     "text": [
      "Cantidad de valores nulos en la columna 'release_date': 3\n"
     ]
    }
   ],
   "source": [
    "# Contar la cantidad de valores nulos en la columna 'budget'\n",
    "cantidad_nulos = df_central['release_date'].isnull().sum()\n",
    "\n",
    "# Mostrar la cantidad de valores nulos\n",
    "print(f\"Cantidad de valores nulos en la columna 'release_date': {cantidad_nulos}\")"
   ]
  },
  {
   "cell_type": "code",
   "execution_count": 51,
   "metadata": {},
   "outputs": [],
   "source": [
    "# Eliminar las filas donde la columna 'release_date' tiene valores nulos\n",
    "df_central = df_central.dropna(subset=['release_date'])"
   ]
  },
  {
   "cell_type": "code",
   "execution_count": 52,
   "metadata": {},
   "outputs": [
    {
     "name": "stdout",
     "output_type": "stream",
     "text": [
      "Cantidad de valores nulos en la columna 'budget': 0\n"
     ]
    }
   ],
   "source": [
    "\n",
    "# Contar la cantidad de valores nulos en la columna 'budget'\n",
    "cantidad_nulos = df_central['budget'].isnull().sum()\n",
    "\n",
    "# Mostrar la cantidad de valores nulos\n",
    "print(f\"Cantidad de valores nulos en la columna 'budget': {cantidad_nulos}\")\n"
   ]
  },
  {
   "cell_type": "code",
   "execution_count": 53,
   "metadata": {},
   "outputs": [
    {
     "name": "stderr",
     "output_type": "stream",
     "text": [
      "C:\\Users\\Usuario\\AppData\\Local\\Temp\\ipykernel_8104\\4213533713.py:2: SettingWithCopyWarning: \n",
      "A value is trying to be set on a copy of a slice from a DataFrame.\n",
      "Try using .loc[row_indexer,col_indexer] = value instead\n",
      "\n",
      "See the caveats in the documentation: https://pandas.pydata.org/pandas-docs/stable/user_guide/indexing.html#returning-a-view-versus-a-copy\n",
      "  df_central['budget'] = df_central['budget'].fillna(0)\n"
     ]
    }
   ],
   "source": [
    "# Completar los valores nulos en la columna 'budget' con 0\n",
    "df_central['budget'] = df_central['budget'].fillna(0)"
   ]
  },
  {
   "cell_type": "code",
   "execution_count": 54,
   "metadata": {},
   "outputs": [
    {
     "name": "stdout",
     "output_type": "stream",
     "text": [
      "<class 'pandas.core.frame.DataFrame'>\n",
      "Index: 45346 entries, 0 to 45465\n",
      "Data columns (total 12 columns):\n",
      " #   Column             Non-Null Count  Dtype         \n",
      "---  ------             --------------  -----         \n",
      " 0   budget             45346 non-null  object        \n",
      " 1   id                 45346 non-null  object        \n",
      " 2   original_language  45335 non-null  object        \n",
      " 3   popularity         45346 non-null  object        \n",
      " 4   release_date       45346 non-null  datetime64[ns]\n",
      " 5   revenue            45346 non-null  float64       \n",
      " 6   runtime            45346 non-null  object        \n",
      " 7   status             45266 non-null  object        \n",
      " 8   vote_average       45346 non-null  float64       \n",
      " 9   vote_count         45346 non-null  float64       \n",
      " 10  release_year       45346 non-null  object        \n",
      " 11  return             45346 non-null  object        \n",
      "dtypes: datetime64[ns](1), float64(3), object(8)\n",
      "memory usage: 4.5+ MB\n"
     ]
    }
   ],
   "source": [
    "df_central.info()"
   ]
  },
  {
   "cell_type": "code",
   "execution_count": 55,
   "metadata": {},
   "outputs": [],
   "source": [
    "# Definir la ruta del archivo CSV donde se guardará el Dat\n",
    "ruta_archivo = 'C:/Users/Usuario/Desktop/Desarrollo de mi proyecto python/Proyecto/Data Limpia Movies/df_central.csv'\n",
    "\n",
    "# Guardar el DataFrame en un archivo CSV\n",
    "df_central.to_csv(ruta_archivo, index=False)"
   ]
  },
  {
   "cell_type": "code",
   "execution_count": 56,
   "metadata": {},
   "outputs": [],
   "source": [
    "# Cargar el archivo CSV 'credits.csv' desde la ruta especificada en un DataFrame\n",
    "# Se utiliza el archivo CSV que contiene la información de los créditos de las películas\n",
    "df_credits = pd.read_csv(\"C:/Users/Usuario/Downloads/credits.csv\")"
   ]
  },
  {
   "cell_type": "code",
   "execution_count": 57,
   "metadata": {},
   "outputs": [
    {
     "name": "stdout",
     "output_type": "stream",
     "text": [
      "                                                cast  \\\n",
      "0  [{'cast_id': 14, 'character': 'Woody (voice)',...   \n",
      "1  [{'cast_id': 1, 'character': 'Alan Parrish', '...   \n",
      "2  [{'cast_id': 2, 'character': 'Max Goldman', 'c...   \n",
      "3  [{'cast_id': 1, 'character': \"Savannah 'Vannah...   \n",
      "4  [{'cast_id': 1, 'character': 'George Banks', '...   \n",
      "\n",
      "                                                crew     id  \n",
      "0  [{'credit_id': '52fe4284c3a36847f8024f49', 'de...    862  \n",
      "1  [{'credit_id': '52fe44bfc3a36847f80a7cd1', 'de...   8844  \n",
      "2  [{'credit_id': '52fe466a9251416c75077a89', 'de...  15602  \n",
      "3  [{'credit_id': '52fe44779251416c91011acb', 'de...  31357  \n",
      "4  [{'credit_id': '52fe44959251416c75039ed7', 'de...  11862  \n"
     ]
    }
   ],
   "source": [
    "# Mostrar las primeras 5 filas del DataFrame df_credits para inspeccionar su contenido\n",
    "print(df_credits.head())"
   ]
  },
  {
   "cell_type": "code",
   "execution_count": 58,
   "metadata": {},
   "outputs": [],
   "source": [
    "# Eliminar duplicados en la columna 'id', manteniendo la primera instancia\n",
    "df_credits_sin_duplicados = df_credits.drop_duplicates(subset=['id'], keep='first')"
   ]
  },
  {
   "cell_type": "code",
   "execution_count": 59,
   "metadata": {},
   "outputs": [],
   "source": [
    "# Función para verificar si una cadena es una lista válida\n",
    "def is_valid_list(s):\n",
    "    try:\n",
    "        # Intenta convertir la cadena a una lista usando ast.literal_eval\n",
    "        val = ast.literal_eval(s)\n",
    "        return isinstance(val, list)\n",
    "    except (ValueError, SyntaxError):\n",
    "        return False\n",
    "\n",
    "# Aplicar la función para crear una máscara de registros válidos\n",
    "valid_mask = df_credits_sin_duplicados['cast'].apply(is_valid_list) & df_credits_sin_duplicados['crew'].apply(is_valid_list)\n",
    "\n",
    "# Crear DataFrames separados\n",
    "df_pandas_valid = df_credits_sin_duplicados[valid_mask].reset_index(drop=True)\n",
    "df_pandas_invalid = df_credits_sin_duplicados[~valid_mask].reset_index(drop=True)"
   ]
  },
  {
   "cell_type": "code",
   "execution_count": 60,
   "metadata": {},
   "outputs": [],
   "source": [
    "# Suponiendo que df_pandas_valid ya está definido\n",
    "# Asegúrate de convertir las cadenas en listas reales\n",
    "df_pandas_valid['cast'] = df_pandas_valid['cast'].apply(lambda x: ast.literal_eval(x))\n",
    "df_pandas_valid['crew'] = df_pandas_valid['crew'].apply(lambda x: ast.literal_eval(x))\n",
    "\n",
    "# Filtrar filas con listas vacías en cast o crew\n",
    "df_credits_sin_duplicados_vacias = df_pandas_valid[(df_pandas_valid['cast'].apply(len) == 0) | (df_pandas_valid['crew'].apply(len) == 0)]\n",
    "\n",
    "# Filtrar filas sin listas vacías en cast y crew\n",
    "df_credits_sin_duplicados_Novacios = df_pandas_valid[(df_pandas_valid['cast'].apply(len) > 0) & (df_pandas_valid['crew'].apply(len) > 0)]"
   ]
  },
  {
   "cell_type": "code",
   "execution_count": 61,
   "metadata": {},
   "outputs": [],
   "source": [
    "#Creo las listas vacias que luego van a formar las columnas de mi df\n",
    "cast_id_list = []\n",
    "character_list = []\n",
    "credit_id_list = []\n",
    "gender_list = []\n",
    "id_list = []\n",
    "name_list = []\n",
    "order_list = []\n",
    "profile_path_list = []\n",
    "movie_id_list = []\n",
    "\n",
    "# Iterar sobre el DataFrame original\n",
    "\n",
    "for idx, row in df_credits_sin_duplicados_Novacios.iterrows():\n",
    "    # La columna 'cast' ya es una lista de diccionarios\n",
    "    cast_list = row['cast']\n",
    "    # Extraer los datos y agregarlos a las listas\n",
    "    movie_id = row['id']\n",
    "    for cast in cast_list:\n",
    "        cast_id_list.append(cast.get('cast_id', None))\n",
    "        character_list.append(cast.get('character', None))\n",
    "        credit_id_list.append(cast.get('credit_id', None))\n",
    "        gender_list.append(cast.get('gender', None))\n",
    "        id_list.append(cast.get('id', None))\n",
    "        name_list.append(cast.get('name', None))\n",
    "        order_list.append(cast.get('order', None))\n",
    "        profile_path_list.append(cast.get('profile_path', None))\n",
    "        movie_id_list.append(movie_id) \n",
    "# Crear el nuevo DataFrame\n",
    "df_cast = pd.DataFrame({\n",
    "    'id_cast': cast_id_list,\n",
    "    'character': character_list,\n",
    "    'id_credit': credit_id_list,\n",
    "    'gender': gender_list,\n",
    "    'id_actor': id_list,\n",
    "    'name': name_list,\n",
    "    'order': order_list,\n",
    "    'profile_path': profile_path_list,\n",
    "    'id': movie_id_list\n",
    "})"
   ]
  },
  {
   "cell_type": "code",
   "execution_count": null,
   "metadata": {},
   "outputs": [],
   "source": [
    "df_cast"
   ]
  },
  {
   "cell_type": "code",
   "execution_count": 88,
   "metadata": {},
   "outputs": [
    {
     "name": "stdout",
     "output_type": "stream",
     "text": [
      "               name     id\n",
      "13   Robin Williams   8844\n",
      "69   Robert De Niro    949\n",
      "84      Danny Trejo    949\n",
      "262    Frank Welker  21032\n",
      "330  Robert De Niro    524\n"
     ]
    }
   ],
   "source": [
    "# Paso 1: Contar el número de películas por actor\n",
    "actor_movie_count = df_cast.groupby('name').size().reset_index(name='movie_count')\n",
    "\n",
    "# Paso 2: Seleccionar los 50 actores con más películas\n",
    "top_50_actors = actor_movie_count.nlargest(50, 'movie_count')\n",
    "\n",
    "# Paso 3: Filtrar df_cast para obtener solo las películas de estos 50 actores\n",
    "df_top_50_actor = df_cast[df_cast['name'].isin(top_50_actors['name'])]\n",
    "\n",
    "# Paso 4: Seleccionar solo las columnas 'name' y 'id'\n",
    "df_top_50_actor = df_top_50_actor[['name', 'id']]\n",
    "\n",
    "# Imprimir el resultado\n",
    "print(df_top_50_actor.head())\n"
   ]
  },
  {
   "cell_type": "code",
   "execution_count": null,
   "metadata": {},
   "outputs": [],
   "source": [
    "df_top_50_actor"
   ]
  },
  {
   "cell_type": "code",
   "execution_count": 97,
   "metadata": {},
   "outputs": [
    {
     "name": "stdout",
     "output_type": "stream",
     "text": [
      "id        object\n",
      "return    object\n",
      "dtype: object\n"
     ]
    }
   ],
   "source": [
    "print(movie_return.dtypes)"
   ]
  },
  {
   "cell_type": "code",
   "execution_count": 94,
   "metadata": {},
   "outputs": [
    {
     "name": "stdout",
     "output_type": "stream",
     "text": [
      "      id return\n",
      "0    862  12.45\n",
      "1   8844   4.04\n",
      "2  15602      0\n",
      "3  31357   5.09\n",
      "4  11862      0\n"
     ]
    }
   ],
   "source": [
    "# Crear un nuevo DataFrame que contenga solo las columnas 'id' y 'return'\n",
    "movie_return = df_central[['id', 'return']]\n",
    "\n",
    "# Mostrar las primeras filas del nuevo DataFrame para verificar\n",
    "print(movie_return.head())\n"
   ]
  },
  {
   "cell_type": "code",
   "execution_count": null,
   "metadata": {},
   "outputs": [],
   "source": [
    "# Convertir la columna 'id' a tipo entero\n",
    "movie_return['id'] = movie_return['id'].astype(int)"
   ]
  },
  {
   "cell_type": "code",
   "execution_count": 96,
   "metadata": {},
   "outputs": [],
   "source": [
    "# Definir la ruta del archivo CSV donde se guardará el DataFrame df_top_50_actor\n",
    "ruta_archivo = 'C:/Users/Usuario/Desktop/Api_Peliculas/Proyecto/Data Limpia cast__crew/df_top_50_actor.csv'\n",
    "\n",
    "# Guardar el DataFrame en un archivo CSV\n",
    "df_top_50_actor.to_csv(ruta_archivo, index=False)\n",
    "\n",
    "# Definir la ruta del archivo CSV donde se guardará el DataFrame movie_return\n",
    "ruta_archivo = 'C:/Users/Usuario/Desktop/Api_Peliculas/Proyecto/Data Limpia Movies/movie_return.csv'\n",
    "\n",
    "# Guardar el DataFrame en un archivo CSV\n",
    "movie_return.to_csv(ruta_archivo, index=False)"
   ]
  },
  {
   "cell_type": "code",
   "execution_count": 64,
   "metadata": {},
   "outputs": [],
   "source": [
    "# Crear listas para las nuevas columnas\n",
    "credit_id_list = []\n",
    "department_list = []\n",
    "gender_list = []\n",
    "id_list = []\n",
    "job_list = []\n",
    "name_list = []\n",
    "profile_path_list = []\n",
    "movie_id_list = []\n",
    "# Iterar sobre el DataFrame original\n",
    "for idx, row in df_credits_sin_duplicados_Novacios.iterrows():\n",
    "    # La columna 'crew' ya es una lista de diccionarios\n",
    "    crew_list = row['crew']\n",
    "    # Extraer los datos y agregarlos a las listas\n",
    "    movie_id = row['id']\n",
    "    for crew in crew_list:\n",
    "        credit_id_list.append(crew.get('credit_id', None))\n",
    "        department_list.append(crew.get('department', None))\n",
    "        gender_list.append(crew.get('gender', None))\n",
    "        id_list.append(crew.get('id', None))\n",
    "        job_list.append(crew.get('job', None))\n",
    "        name_list.append(crew.get('name', None))\n",
    "        profile_path_list.append(crew.get('profile_path', None))\n",
    "        movie_id_list.append(movie_id) \n",
    "# Crear el nuevo DataFrame\n",
    "df_crew = pd.DataFrame({\n",
    "    'credit_id': credit_id_list,\n",
    "    'department': department_list,\n",
    "    'gender': gender_list,\n",
    "    'id_director': id_list,\n",
    "    'job': job_list,\n",
    "    'name': name_list,\n",
    "    'profile_path': profile_path_list,\n",
    "    'id': movie_id_list\n",
    "})"
   ]
  },
  {
   "cell_type": "code",
   "execution_count": 65,
   "metadata": {},
   "outputs": [],
   "source": [
    "# Eliminar la columna 'profile_path' del DataFrame df_crew in-place\n",
    "df_crew.drop(columns=['profile_path'], inplace=True)"
   ]
  },
  {
   "cell_type": "code",
   "execution_count": 66,
   "metadata": {},
   "outputs": [],
   "source": [
    "# Eliminar la columna 'profile_path' del DataFrame df_cast in-place\n",
    "df_cast.drop(columns=['profile_path'], inplace=True)"
   ]
  },
  {
   "cell_type": "code",
   "execution_count": 67,
   "metadata": {},
   "outputs": [],
   "source": [
    "# Crear una copia idéntica del DataFrame df_crew\n",
    "df_cast_copia = df_cast.copy()\n",
    "\n",
    "df_crew_copia = df_crew.copy()"
   ]
  },
  {
   "cell_type": "code",
   "execution_count": 68,
   "metadata": {},
   "outputs": [],
   "source": [
    "# Crear el DataFrame df_actor con las columnas 'id', 'name', y 'character'\n",
    "df_actor = df_cast_copia[['id_actor', 'name']].copy()"
   ]
  },
  {
   "cell_type": "code",
   "execution_count": 69,
   "metadata": {},
   "outputs": [],
   "source": [
    "# Eliminar los valores duplicados en la columna 'id_actor' y conservar la primera aparición\n",
    "df_actor_unique = df_actor.drop_duplicates(subset='id_actor', keep='first')\n"
   ]
  },
  {
   "cell_type": "code",
   "execution_count": 70,
   "metadata": {},
   "outputs": [],
   "source": [
    "# Definir la ruta del archivo CSV donde se guardará el DataFrame\n",
    "ruta_archivo = 'C:/Users/Usuario/Desktop/Desarrollo de mi proyecto python/Proyecto/Data Limpia cast__crew/df_actor_unique.csv'\n",
    "\n",
    "# Guardar el DataFrame en un archivo CSV\n",
    "df_actor_unique.to_csv(ruta_archivo, index=False)\n",
    "\n"
   ]
  },
  {
   "cell_type": "code",
   "execution_count": 71,
   "metadata": {},
   "outputs": [],
   "source": [
    "# Elimina la columna 'gender' del DataFrame df_cast_copia.\n",
    "df_cast_copia = df_cast_copia.drop(columns=['gender'])"
   ]
  },
  {
   "cell_type": "code",
   "execution_count": 72,
   "metadata": {},
   "outputs": [],
   "source": [
    "# Eliminar la columna 'name' del DataFrame df_cast\n",
    "df_cast_copia = df_cast_copia.drop(columns=['name'])"
   ]
  },
  {
   "cell_type": "code",
   "execution_count": 73,
   "metadata": {},
   "outputs": [],
   "source": [
    "# Definir la ruta del archivo CSV donde se guardará el DataFrame\n",
    "ruta_archivo = 'C:/Users/Usuario/Desktop/Desarrollo de mi proyecto python/Proyecto/Data Limpia cast__crew/df_cast_copia.csv'\n",
    "\n",
    "# Guardar el DataFrame en un archivo CSV\n",
    "df_cast_copia.to_csv(ruta_archivo, index=False)"
   ]
  },
  {
   "cell_type": "code",
   "execution_count": 74,
   "metadata": {},
   "outputs": [
    {
     "data": {
      "text/html": [
       "<div>\n",
       "<style scoped>\n",
       "    .dataframe tbody tr th:only-of-type {\n",
       "        vertical-align: middle;\n",
       "    }\n",
       "\n",
       "    .dataframe tbody tr th {\n",
       "        vertical-align: top;\n",
       "    }\n",
       "\n",
       "    .dataframe thead th {\n",
       "        text-align: right;\n",
       "    }\n",
       "</style>\n",
       "<table border=\"1\" class=\"dataframe\">\n",
       "  <thead>\n",
       "    <tr style=\"text-align: right;\">\n",
       "      <th></th>\n",
       "      <th>id_director</th>\n",
       "      <th>name</th>\n",
       "    </tr>\n",
       "  </thead>\n",
       "  <tbody>\n",
       "    <tr>\n",
       "      <th>0</th>\n",
       "      <td>7879</td>\n",
       "      <td>John Lasseter</td>\n",
       "    </tr>\n",
       "    <tr>\n",
       "      <th>1</th>\n",
       "      <td>12891</td>\n",
       "      <td>Joss Whedon</td>\n",
       "    </tr>\n",
       "    <tr>\n",
       "      <th>2</th>\n",
       "      <td>7</td>\n",
       "      <td>Andrew Stanton</td>\n",
       "    </tr>\n",
       "    <tr>\n",
       "      <th>3</th>\n",
       "      <td>12892</td>\n",
       "      <td>Joel Cohen</td>\n",
       "    </tr>\n",
       "    <tr>\n",
       "      <th>4</th>\n",
       "      <td>12893</td>\n",
       "      <td>Alec Sokolow</td>\n",
       "    </tr>\n",
       "  </tbody>\n",
       "</table>\n",
       "</div>"
      ],
      "text/plain": [
       "   id_director            name\n",
       "0         7879   John Lasseter\n",
       "1        12891     Joss Whedon\n",
       "2            7  Andrew Stanton\n",
       "3        12892      Joel Cohen\n",
       "4        12893    Alec Sokolow"
      ]
     },
     "execution_count": 74,
     "metadata": {},
     "output_type": "execute_result"
    }
   ],
   "source": [
    "# Crear el nuevo DataFrame con las columnas id_director y name\n",
    "df_director = df_crew[['id_director', 'name']].copy()\n",
    "\n",
    "# Mostrar las primeras filas del nuevo DataFrame\n",
    "df_director.head()"
   ]
  },
  {
   "cell_type": "code",
   "execution_count": 75,
   "metadata": {},
   "outputs": [],
   "source": [
    "# Eliminar los valores duplicados en la columna 'id_director' y conservar la primera aparición\n",
    "df_director_unique = df_director.drop_duplicates(subset='id_director', keep='first')"
   ]
  },
  {
   "cell_type": "code",
   "execution_count": 76,
   "metadata": {},
   "outputs": [],
   "source": [
    "# Definir la ruta del archivo CSV donde se guardará el DataFrame\n",
    "ruta_archivo = 'C:/Users/Usuario/Desktop/Desarrollo de mi proyecto python/Proyecto/Data Limpia cast__crew/df_director_unique.csv'\n",
    "\n",
    "# Guardar el DataFrame en un archivo CSV\n",
    "df_director_unique.to_csv(ruta_archivo, index=False)"
   ]
  },
  {
   "cell_type": "code",
   "execution_count": 77,
   "metadata": {},
   "outputs": [
    {
     "data": {
      "text/html": [
       "<div>\n",
       "<style scoped>\n",
       "    .dataframe tbody tr th:only-of-type {\n",
       "        vertical-align: middle;\n",
       "    }\n",
       "\n",
       "    .dataframe tbody tr th {\n",
       "        vertical-align: top;\n",
       "    }\n",
       "\n",
       "    .dataframe thead th {\n",
       "        text-align: right;\n",
       "    }\n",
       "</style>\n",
       "<table border=\"1\" class=\"dataframe\">\n",
       "  <thead>\n",
       "    <tr style=\"text-align: right;\">\n",
       "      <th></th>\n",
       "      <th>credit_id</th>\n",
       "      <th>department</th>\n",
       "      <th>id_director</th>\n",
       "      <th>job</th>\n",
       "      <th>id</th>\n",
       "    </tr>\n",
       "  </thead>\n",
       "  <tbody>\n",
       "    <tr>\n",
       "      <th>0</th>\n",
       "      <td>52fe4284c3a36847f8024f49</td>\n",
       "      <td>Directing</td>\n",
       "      <td>7879</td>\n",
       "      <td>Director</td>\n",
       "      <td>862</td>\n",
       "    </tr>\n",
       "    <tr>\n",
       "      <th>1</th>\n",
       "      <td>52fe4284c3a36847f8024f4f</td>\n",
       "      <td>Writing</td>\n",
       "      <td>12891</td>\n",
       "      <td>Screenplay</td>\n",
       "      <td>862</td>\n",
       "    </tr>\n",
       "    <tr>\n",
       "      <th>2</th>\n",
       "      <td>52fe4284c3a36847f8024f55</td>\n",
       "      <td>Writing</td>\n",
       "      <td>7</td>\n",
       "      <td>Screenplay</td>\n",
       "      <td>862</td>\n",
       "    </tr>\n",
       "    <tr>\n",
       "      <th>3</th>\n",
       "      <td>52fe4284c3a36847f8024f5b</td>\n",
       "      <td>Writing</td>\n",
       "      <td>12892</td>\n",
       "      <td>Screenplay</td>\n",
       "      <td>862</td>\n",
       "    </tr>\n",
       "    <tr>\n",
       "      <th>4</th>\n",
       "      <td>52fe4284c3a36847f8024f61</td>\n",
       "      <td>Writing</td>\n",
       "      <td>12893</td>\n",
       "      <td>Screenplay</td>\n",
       "      <td>862</td>\n",
       "    </tr>\n",
       "  </tbody>\n",
       "</table>\n",
       "</div>"
      ],
      "text/plain": [
       "                  credit_id department  id_director         job   id\n",
       "0  52fe4284c3a36847f8024f49  Directing         7879    Director  862\n",
       "1  52fe4284c3a36847f8024f4f    Writing        12891  Screenplay  862\n",
       "2  52fe4284c3a36847f8024f55    Writing            7  Screenplay  862\n",
       "3  52fe4284c3a36847f8024f5b    Writing        12892  Screenplay  862\n",
       "4  52fe4284c3a36847f8024f61    Writing        12893  Screenplay  862"
      ]
     },
     "execution_count": 77,
     "metadata": {},
     "output_type": "execute_result"
    }
   ],
   "source": [
    "# Eliminar las columnas name y gender del DataFrame df_crew_copia\n",
    "df_crew_copia = df_crew_copia.drop(columns=['name', 'gender'])\n",
    "\n",
    "# Verificar que las columnas hayan sido eliminadas\n",
    "df_crew_copia.head()\n"
   ]
  },
  {
   "cell_type": "code",
   "execution_count": 78,
   "metadata": {},
   "outputs": [],
   "source": [
    "# Definir la ruta del archivo CSV donde se guardará el DataFrame\n",
    "ruta_archivo = 'C:/Users/Usuario/Desktop/Desarrollo de mi proyecto python/Proyecto/Data Limpia cast__crew/df_crew_copia.csv'\n",
    "\n",
    "# Guardar el DataFrame en un archivo CSV\n",
    "df_crew_copia.to_csv(ruta_archivo, index=False)"
   ]
  },
  {
   "cell_type": "code",
   "execution_count": null,
   "metadata": {},
   "outputs": [],
   "source": []
  }
 ],
 "metadata": {
  "kernelspec": {
   "display_name": "venv",
   "language": "python",
   "name": "python3"
  },
  "language_info": {
   "codemirror_mode": {
    "name": "ipython",
    "version": 3
   },
   "file_extension": ".py",
   "mimetype": "text/x-python",
   "name": "python",
   "nbconvert_exporter": "python",
   "pygments_lexer": "ipython3",
   "version": "3.10.0"
  }
 },
 "nbformat": 4,
 "nbformat_minor": 2
}
